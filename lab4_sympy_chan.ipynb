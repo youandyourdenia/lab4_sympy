{
  "nbformat": 4,
  "nbformat_minor": 0,
  "metadata": {
    "colab": {
      "provenance": []
    },
    "kernelspec": {
      "name": "python3",
      "display_name": "Python 3"
    },
    "language_info": {
      "name": "python"
    }
  },
  "cells": [
    {
      "cell_type": "code",
      "execution_count": 1,
      "metadata": {
        "id": "Zd3w_7Uwhu1v"
      },
      "outputs": [],
      "source": [
        "from sympy import *"
      ]
    },
    {
      "cell_type": "code",
      "source": [
        "x = symbols('x')\n",
        "x + x"
      ],
      "metadata": {
        "colab": {
          "base_uri": "https://localhost:8080/",
          "height": 38
        },
        "id": "6Kqt8qPqi0Lo",
        "outputId": "00b939c6-53db-4efc-e742-7aa26cdc1c33"
      },
      "execution_count": 2,
      "outputs": [
        {
          "output_type": "execute_result",
          "data": {
            "text/plain": [
              "2*x"
            ],
            "text/latex": "$\\displaystyle 2 x$"
          },
          "metadata": {},
          "execution_count": 2
        }
      ]
    },
    {
      "cell_type": "markdown",
      "source": [
        "**Answer to #1:** It means `x` is added to itself, resulting in `2x`."
      ],
      "metadata": {
        "id": "cdK7WhtVjKax"
      }
    },
    {
      "cell_type": "code",
      "source": [
        "x * x"
      ],
      "metadata": {
        "colab": {
          "base_uri": "https://localhost:8080/",
          "height": 38
        },
        "id": "ZZPWALFojO9u",
        "outputId": "00b9b76b-c648-407e-a5be-eaf93cbda8d5"
      },
      "execution_count": 3,
      "outputs": [
        {
          "output_type": "execute_result",
          "data": {
            "text/plain": [
              "x**2"
            ],
            "text/latex": "$\\displaystyle x^{2}$"
          },
          "metadata": {},
          "execution_count": 3
        }
      ]
    },
    {
      "cell_type": "markdown",
      "source": [
        "**Answer to #2:** It represents `x` multiplied by `x`, which is `x²`."
      ],
      "metadata": {
        "id": "w2x3U4MPjRka"
      }
    },
    {
      "cell_type": "code",
      "source": [
        "limit(sin(x)/x, x, 0)"
      ],
      "metadata": {
        "colab": {
          "base_uri": "https://localhost:8080/",
          "height": 37
        },
        "id": "KrsUa8j3jTpK",
        "outputId": "6c12ed0e-dd06-477b-bd7b-543dc0c8bc24"
      },
      "execution_count": 4,
      "outputs": [
        {
          "output_type": "execute_result",
          "data": {
            "text/plain": [
              "1"
            ],
            "text/latex": "$\\displaystyle 1$"
          },
          "metadata": {},
          "execution_count": 4
        }
      ]
    },
    {
      "cell_type": "markdown",
      "source": [
        "**Answer to #3:** The result is `1`, which shows that as `x` approaches `0`, the value of `sin(x)/x` approaches `1`."
      ],
      "metadata": {
        "id": "V0XUYTYvja_z"
      }
    },
    {
      "cell_type": "code",
      "source": [
        "diff(x**2, x)"
      ],
      "metadata": {
        "colab": {
          "base_uri": "https://localhost:8080/",
          "height": 38
        },
        "id": "BYF2rBykjbiB",
        "outputId": "bec6c777-461e-4c54-ec7a-9885e037863b"
      },
      "execution_count": 5,
      "outputs": [
        {
          "output_type": "execute_result",
          "data": {
            "text/plain": [
              "2*x"
            ],
            "text/latex": "$\\displaystyle 2 x$"
          },
          "metadata": {},
          "execution_count": 5
        }
      ]
    },
    {
      "cell_type": "markdown",
      "source": [
        "**Answer to #4:** The output is `2x`. It tells us that the derivative (slope) of `x²` is `2x`."
      ],
      "metadata": {
        "id": "wyp_KYUMjdzt"
      }
    },
    {
      "cell_type": "code",
      "source": [
        "exp(x).series(x, 0, 4)"
      ],
      "metadata": {
        "colab": {
          "base_uri": "https://localhost:8080/",
          "height": 54
        },
        "id": "wghT2dMNjfFv",
        "outputId": "9f6b1820-e71d-4277-eedb-257c2984365b"
      },
      "execution_count": 6,
      "outputs": [
        {
          "output_type": "execute_result",
          "data": {
            "text/plain": [
              "1 + x + x**2/2 + x**3/6 + O(x**4)"
            ],
            "text/latex": "$\\displaystyle 1 + x + \\frac{x^{2}}{2} + \\frac{x^{3}}{6} + O\\left(x^{4}\\right)$"
          },
          "metadata": {},
          "execution_count": 6
        }
      ]
    },
    {
      "cell_type": "markdown",
      "source": [
        "**Answer to #5:** It shows the first 4 terms of the Taylor series expansion of `e^x`:  \n",
        "`1 + x + x²/2 + x³/6`.  \n",
        "There are **4 terms** plus the order notation `O(x⁴)`."
      ],
      "metadata": {
        "id": "q-S1wYJfjhQq"
      }
    },
    {
      "cell_type": "code",
      "source": [
        "solve(Eq(x**2 - 4, 0), x)"
      ],
      "metadata": {
        "colab": {
          "base_uri": "https://localhost:8080/"
        },
        "id": "0b3waZFMji0h",
        "outputId": "b0b2c84d-f4ba-4110-e692-524472d3f391"
      },
      "execution_count": 7,
      "outputs": [
        {
          "output_type": "execute_result",
          "data": {
            "text/plain": [
              "[-2, 2]"
            ]
          },
          "metadata": {},
          "execution_count": 7
        }
      ]
    },
    {
      "cell_type": "markdown",
      "source": [
        "**Answer to #6:** The answers are `x = -2` and `x = 2`.\n",
        "\n",
        "**Answer to #7:** This is a quadratic equation problem (polynomial of degree 2)."
      ],
      "metadata": {
        "id": "rzLbz4pRjkLh"
      }
    },
    {
      "cell_type": "markdown",
      "source": [],
      "metadata": {
        "id": "Pf8K7i_Vh9iN"
      }
    },
    {
      "cell_type": "markdown",
      "source": [
        "**Answer to #8:** My favorite part was seeing how limits and derivatives are calculated instantly.\n",
        "\n",
        "**Answer to #9:** I was surprised that SymPy can show the Taylor Series expansion automatically."
      ],
      "metadata": {
        "id": "3aQMnByGjnqX"
      }
    }
  ]
}